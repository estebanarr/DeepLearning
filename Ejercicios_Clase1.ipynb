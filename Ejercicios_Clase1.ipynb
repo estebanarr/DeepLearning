{
  "cells": [
    {
      "cell_type": "code",
      "execution_count": 2,
      "metadata": {},
      "outputs": [],
      "source": [
        "import torch\n",
        "import math"
      ]
    },
    {
      "cell_type": "markdown",
      "metadata": {
        "id": "ZIyMzJmXpDdH"
      },
      "source": [
        "### Ejercicio 1\n",
        "Generar un tensor llamado x cuyo contenido sea el siguiente:\n",
        "\n",
        "![Imgur](https://i.imgur.com/rfaKGUG.png)"
      ]
    },
    {
      "cell_type": "code",
      "execution_count": 3,
      "metadata": {
        "id": "A5cbS3G9nQyg"
      },
      "outputs": [
        {
          "name": "stdout",
          "output_type": "stream",
          "text": [
            "tensor([[[ 0,  2,  4,  6,  8],\n",
            "         [10, 12, 14, 16, 18],\n",
            "         [20, 22, 24, 26, 28]],\n",
            "\n",
            "        [[30, 32, 34, 36, 38],\n",
            "         [40, 42, 44, 46, 48],\n",
            "         [50, 52, 54, 56, 58]]])\n"
          ]
        }
      ],
      "source": [
        "matriz_1 = torch.arange(0, 29, 2).reshape(3, 5)\n",
        "\n",
        "matriz_2 = torch.arange(30, 59, 2).reshape(3, 5)\n",
        "\n",
        "\n",
        "tensor = torch.stack((matriz_1, matriz_2))\n",
        "\n",
        "print(tensor)"
      ]
    },
    {
      "cell_type": "code",
      "execution_count": 4,
      "metadata": {},
      "outputs": [
        {
          "data": {
            "text/plain": [
              "tensor([[[[1., 1., 1.],\n",
              "          [2., 2., 2.],\n",
              "          [3., 3., 3.],\n",
              "          [4., 4., 4.],\n",
              "          [5., 5., 5.]],\n",
              "\n",
              "         [[1., 1., 1.],\n",
              "          [2., 2., 2.],\n",
              "          [3., 3., 3.],\n",
              "          [4., 4., 4.],\n",
              "          [5., 5., 5.]],\n",
              "\n",
              "         [[1., 1., 1.],\n",
              "          [2., 2., 2.],\n",
              "          [3., 3., 3.],\n",
              "          [4., 4., 4.],\n",
              "          [5., 5., 5.]],\n",
              "\n",
              "         [[1., 1., 1.],\n",
              "          [2., 2., 2.],\n",
              "          [3., 3., 3.],\n",
              "          [4., 4., 4.],\n",
              "          [5., 5., 5.]]],\n",
              "\n",
              "\n",
              "        [[[1., 1., 1.],\n",
              "          [2., 2., 2.],\n",
              "          [3., 3., 3.],\n",
              "          [4., 4., 4.],\n",
              "          [5., 5., 5.]],\n",
              "\n",
              "         [[1., 1., 1.],\n",
              "          [2., 2., 2.],\n",
              "          [3., 3., 3.],\n",
              "          [4., 4., 4.],\n",
              "          [5., 5., 5.]],\n",
              "\n",
              "         [[1., 1., 1.],\n",
              "          [2., 2., 2.],\n",
              "          [3., 3., 3.],\n",
              "          [4., 4., 4.],\n",
              "          [5., 5., 5.]],\n",
              "\n",
              "         [[1., 1., 1.],\n",
              "          [2., 2., 2.],\n",
              "          [3., 3., 3.],\n",
              "          [4., 4., 4.],\n",
              "          [5., 5., 5.]]]])"
            ]
          },
          "execution_count": 4,
          "metadata": {},
          "output_type": "execute_result"
        }
      ],
      "source": [
        "X = torch.ones(2, 4, 5, 3)\n",
        "y = torch.tensor([1,2,3,4,5]).reshape(5,1)\n",
        "\n",
        "X*y\n"
      ]
    },
    {
      "cell_type": "markdown",
      "metadata": {
        "id": "dm_PLDM_ov2z"
      },
      "source": [
        "### Ejercicio 2\n",
        "Realizar los cambios necesarios en los siguientes tensores para que sea posible multiplicar cada columna del tensor \"X\" por el vector \"y\"."
      ]
    },
    {
      "cell_type": "code",
      "execution_count": 2,
      "metadata": {
        "id": "iYigasJnqJDe"
      },
      "outputs": [
        {
          "ename": "NameError",
          "evalue": "name 'torch' is not defined",
          "output_type": "error",
          "traceback": [
            "\u001b[1;31m---------------------------------------------------------------------------\u001b[0m",
            "\u001b[1;31mNameError\u001b[0m                                 Traceback (most recent call last)",
            "\u001b[1;32m<ipython-input-2-33dc74296903>\u001b[0m in \u001b[0;36m<module>\u001b[1;34m\u001b[0m\n\u001b[1;32m----> 1\u001b[1;33m \u001b[0mX\u001b[0m \u001b[1;33m=\u001b[0m \u001b[0mtorch\u001b[0m\u001b[1;33m.\u001b[0m\u001b[0mones\u001b[0m\u001b[1;33m(\u001b[0m\u001b[1;36m2\u001b[0m\u001b[1;33m,\u001b[0m \u001b[1;36m4\u001b[0m\u001b[1;33m,\u001b[0m \u001b[1;36m5\u001b[0m\u001b[1;33m,\u001b[0m \u001b[1;36m3\u001b[0m\u001b[1;33m)\u001b[0m\u001b[1;33m\u001b[0m\u001b[1;33m\u001b[0m\u001b[0m\n\u001b[0m\u001b[0;32m      2\u001b[0m \u001b[0my\u001b[0m \u001b[1;33m=\u001b[0m \u001b[0mtorch\u001b[0m\u001b[1;33m.\u001b[0m\u001b[0mtensor\u001b[0m\u001b[1;33m(\u001b[0m\u001b[1;33m[\u001b[0m\u001b[1;36m1\u001b[0m\u001b[1;33m,\u001b[0m\u001b[1;36m2\u001b[0m\u001b[1;33m,\u001b[0m\u001b[1;36m3\u001b[0m\u001b[1;33m,\u001b[0m\u001b[1;36m4\u001b[0m\u001b[1;33m,\u001b[0m\u001b[1;36m5\u001b[0m\u001b[1;33m]\u001b[0m\u001b[1;33m)\u001b[0m\u001b[1;33m\u001b[0m\u001b[1;33m\u001b[0m\u001b[0m\n\u001b[0;32m      3\u001b[0m \u001b[1;31m#inserte su código aquí\u001b[0m\u001b[1;33m\u001b[0m\u001b[1;33m\u001b[0m\u001b[1;33m\u001b[0m\u001b[0m\n",
            "\u001b[1;31mNameError\u001b[0m: name 'torch' is not defined"
          ]
        }
      ],
      "source": [
        "X = torch.ones(2, 4, 5, 3)\n",
        "y = torch.tensor([1,2,3,4,5])\n",
        "#inserte su código aquí\n"
      ]
    },
    {
      "cell_type": "markdown",
      "metadata": {
        "id": "CTyfGqySrJ8B"
      },
      "source": [
        "###Ejercicio 3\n",
        "Descargar el dataset FashionMNIST y guardar en un tensor todas las imágenes de bolsos (label 8).\n",
        "\n",
        "Tip: use la función torch.stack para apilar una lista de tensores en uno solo"
      ]
    },
    {
      "cell_type": "code",
      "execution_count": null,
      "metadata": {
        "id": "wQDjkQUjzqjE"
      },
      "outputs": [],
      "source": [
        "#inserte su código aquí\n"
      ]
    },
    {
      "cell_type": "markdown",
      "metadata": {
        "id": "_AO78OtBvwuu"
      },
      "source": [
        "###Ejercicio 4\n",
        "Use autograd para graficar el gradiente de la siguiente función aplicada sobre el tensor \"x\".\n",
        "\n",
        "$$f(x) = \\tan(2x+ \\frac{\\pi}{2}) $$\n",
        "\n",
        "Graficar entre 0 y 2$\\pi$."
      ]
    },
    {
      "cell_type": "code",
      "execution_count": null,
      "metadata": {
        "id": "O3NaD8_XtUBw"
      },
      "outputs": [],
      "source": [
        "#inserte su código aquí\n"
      ]
    }
  ],
  "metadata": {
    "colab": {
      "name": "Ejercicios_Clase1",
      "provenance": []
    },
    "kernelspec": {
      "display_name": "Python 3",
      "name": "python3"
    },
    "language_info": {
      "codemirror_mode": {
        "name": "ipython",
        "version": 3
      },
      "file_extension": ".py",
      "mimetype": "text/x-python",
      "name": "python",
      "nbconvert_exporter": "python",
      "pygments_lexer": "ipython3",
      "version": "3.8.5"
    }
  },
  "nbformat": 4,
  "nbformat_minor": 0
}
